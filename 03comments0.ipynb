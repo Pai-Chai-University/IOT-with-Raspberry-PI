{
  "nbformat": 4,
  "nbformat_minor": 0,
  "metadata": {
    "colab": {
      "name": "Untitled0.ipynb",
      "provenance": [],
      "authorship_tag": "ABX9TyNw8hmzYLTQMRz38NAgczXo",
      "include_colab_link": true
    },
    "kernelspec": {
      "name": "python3",
      "display_name": "Python 3"
    }
  },
  "cells": [
    {
      "cell_type": "markdown",
      "metadata": {
        "id": "view-in-github",
        "colab_type": "text"
      },
      "source": [
        "<a href=\"https://colab.research.google.com/github/Pai-Chai-University/IOT-with-Raspberry-PI/blob/master/03comments0.ipynb\" target=\"_parent\"><img src=\"https://colab.research.google.com/assets/colab-badge.svg\" alt=\"Open In Colab\"/></a>"
      ]
    },
    {
      "cell_type": "code",
      "metadata": {
        "id": "pKode8aM8Xxk",
        "colab_type": "code",
        "colab": {
          "base_uri": "https://localhost:8080/",
          "height": 36
        },
        "outputId": "0267a2a6-aad4-474c-d2d9-fedf70fc8906"
      },
      "source": [
        "# 1. 한줄 주석 : # (프로그램을 코딩중 제일 중요한 단어나 급하게 필요할 때 한줄 주석으로 '#'을 사용해줍니다.\n",
        "# 2. 여러줄 주석 : '''(홑 따옴표 3개를 사용), \"\"\"(쌍 따옴표 3개를 사용) 주석을 닫아줄 때도 같이 홑, 쌍 따옴표 3개를 이용해 닫아주면 됩니다.\n",
        "'''\n",
        "여러줄 주석1\n",
        "'''\n",
        "\"\"\"\n",
        "여러줄 주석2\n",
        "\"\"\"\n",
        "\n",
        "print('주석예제입니다')    "
      ],
      "execution_count": 1,
      "outputs": [
        {
          "output_type": "stream",
          "text": [
            "주석예제입니다\n"
          ],
          "name": "stdout"
        }
      ]
    }
  ]
}