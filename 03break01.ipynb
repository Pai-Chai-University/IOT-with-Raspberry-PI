{
  "nbformat": 4,
  "nbformat_minor": 0,
  "metadata": {
    "colab": {
      "name": "03break01.ipynb",
      "provenance": [],
      "authorship_tag": "ABX9TyMsBvDrkszydBNxUlCmvzUG",
      "include_colab_link": true
    },
    "kernelspec": {
      "name": "python3",
      "display_name": "Python 3"
    }
  },
  "cells": [
    {
      "cell_type": "markdown",
      "metadata": {
        "id": "view-in-github",
        "colab_type": "text"
      },
      "source": [
        "<a href=\"https://colab.research.google.com/github/Pai-Chai-University/IOT-with-Raspberry-PI/blob/master/03break01.ipynb\" target=\"_parent\"><img src=\"https://colab.research.google.com/assets/colab-badge.svg\" alt=\"Open In Colab\"/></a>"
      ]
    },
    {
      "cell_type": "code",
      "metadata": {
        "id": "caIWuguBwkn0",
        "colab_type": "code",
        "colab": {
          "base_uri": "https://localhost:8080/",
          "height": 89
        },
        "outputId": "7166b52d-135a-4cd2-9f53-aa31d3933f12"
      },
      "source": [
        "#break01.py\n",
        "\n",
        "#for문과 break문을 이용하여 1에서 20까지 합이 100보다 가장 가깝고 작은 합을 구하시오. \n",
        "sum , i = 0, 0\n",
        "for i in range(1, 20, 1):\n",
        "    sum+=i\n",
        "    if sum>100:\n",
        "        break;\n",
        "sum-=i        \n",
        "print(\"%d\" % sum)    \n",
        "print(\"----------------\")\n",
        "\n",
        "#while문과 break문을 이용하여 입력한 1에서 숫자 만큼 합을 구하시오.\n",
        "sum, i = 0, 0\n",
        "j = int(input(\"숫자를 입력하세요.\"))\n",
        "while True:\n",
        "    if i<j:\n",
        "        i = i + 1\n",
        "        sum+=i;\n",
        "    elif i==j:\n",
        "        break\n",
        "print(\"1에서 %d까지의 합은 %d입니다.\" % (j, sum))  "
      ],
      "execution_count": 1,
      "outputs": [
        {
          "output_type": "stream",
          "text": [
            "91\n",
            "----------------\n",
            "숫자를 입력하세요.10\n",
            "1에서 10까지의 합은 55입니다.\n"
          ],
          "name": "stdout"
        }
      ]
    }
  ]
}