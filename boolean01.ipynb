{
  "nbformat": 4,
  "nbformat_minor": 0,
  "metadata": {
    "colab": {
      "name": "boolean01.ipynb",
      "provenance": [],
      "authorship_tag": "ABX9TyOP6xMSP9Tc4l4mH9PMCPK0",
      "include_colab_link": true
    },
    "kernelspec": {
      "name": "python3",
      "display_name": "Python 3"
    }
  },
  "cells": [
    {
      "cell_type": "markdown",
      "metadata": {
        "id": "view-in-github",
        "colab_type": "text"
      },
      "source": [
        "<a href=\"https://colab.research.google.com/github/Pai-Chai-University/IOT-with-Raspberry-PI/blob/master/boolean01.ipynb\" target=\"_parent\"><img src=\"https://colab.research.google.com/assets/colab-badge.svg\" alt=\"Open In Colab\"/></a>"
      ]
    },
    {
      "cell_type": "code",
      "metadata": {
        "id": "A3rqRuxJazze",
        "colab_type": "code",
        "colab": {
          "base_uri": "https://localhost:8080/",
          "height": 71
        },
        "outputId": "f7028a3e-ef1f-42a2-cf38-565d4e005a2c"
      },
      "source": [
        "a = True\n",
        "print(type(a))\n",
        "a = (100==100)\n",
        "print(a)\n",
        "b = (10>100)\n",
        "print(a, b)"
      ],
      "execution_count": 2,
      "outputs": [
        {
          "output_type": "stream",
          "text": [
            "<class 'bool'>\n",
            "True\n",
            "True False\n"
          ],
          "name": "stdout"
        }
      ]
    }
  ]
}