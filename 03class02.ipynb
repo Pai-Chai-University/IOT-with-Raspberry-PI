{
  "nbformat": 4,
  "nbformat_minor": 0,
  "metadata": {
    "colab": {
      "name": "03class02.ipynb",
      "provenance": [],
      "authorship_tag": "ABX9TyN27baAzNtHT8Yog3HIPgBm",
      "include_colab_link": true
    },
    "kernelspec": {
      "name": "python3",
      "display_name": "Python 3"
    }
  },
  "cells": [
    {
      "cell_type": "markdown",
      "metadata": {
        "id": "view-in-github",
        "colab_type": "text"
      },
      "source": [
        "<a href=\"https://colab.research.google.com/github/Pai-Chai-University/IOT-with-Raspberry-PI/blob/master/03class02.ipynb\" target=\"_parent\"><img src=\"https://colab.research.google.com/assets/colab-badge.svg\" alt=\"Open In Colab\"/></a>"
      ]
    },
    {
      "cell_type": "code",
      "metadata": {
        "id": "gVhexk8T6P1i",
        "colab_type": "code",
        "colab": {
          "base_uri": "https://localhost:8080/",
          "height": 36
        },
        "outputId": "7d1e98b8-46be-45db-ca37-381a53afc604"
      },
      "source": [
        "class AutoMobile:\n",
        "    name = \"\"\n",
        "    velocity = 0\n",
        "    def __init__(self, str):\n",
        "        self.name = str\n",
        "    def velocityPlus(self):\n",
        "        self.velocity = self.velocity + 1\n",
        "    def velocityDw(self):\n",
        "        self.velocity = self.velocity - 1\n",
        "        if self.velocity < 0:\n",
        "            self.velocity = 0\n",
        "ac = AutoMobile(\"소나타\")\n",
        "ac.velocity = 20\n",
        "ac.velocityPlus()\n",
        "print(ac.name+\"의 속도는 %d 입니다.\" % ac.velocity)"
      ],
      "execution_count": 1,
      "outputs": [
        {
          "output_type": "stream",
          "text": [
            "소나타의 속도는 21 입니다.\n"
          ],
          "name": "stdout"
        }
      ]
    }
  ]
}