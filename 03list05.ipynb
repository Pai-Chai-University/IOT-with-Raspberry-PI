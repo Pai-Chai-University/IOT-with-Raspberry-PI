{
  "nbformat": 4,
  "nbformat_minor": 0,
  "metadata": {
    "colab": {
      "name": "Untitled1.ipynb",
      "provenance": [],
      "authorship_tag": "ABX9TyMtq/QOIr9DpU2ORRgjn/3C",
      "include_colab_link": true
    },
    "kernelspec": {
      "name": "python3",
      "display_name": "Python 3"
    }
  },
  "cells": [
    {
      "cell_type": "markdown",
      "metadata": {
        "id": "view-in-github",
        "colab_type": "text"
      },
      "source": [
        "<a href=\"https://colab.research.google.com/github/Pai-Chai-University/IOT-with-Raspberry-PI/blob/master/03list05.ipynb\" target=\"_parent\"><img src=\"https://colab.research.google.com/assets/colab-badge.svg\" alt=\"Open In Colab\"/></a>"
      ]
    },
    {
      "cell_type": "code",
      "metadata": {
        "id": "h0gCFbzcJdKr",
        "colab_type": "code",
        "colab": {}
      },
      "source": [
        "aa = [30, 10, 20]\n",
        "print(\"현재의 리스트 : %s\" % aa)\n",
        "aa.append(40)\n",
        "print(\"append 후의 리스트 : %s\" % aa)\n",
        "aa.pop()\n",
        "print(\"pop 후의 리스트 : %s\" % aa)\n",
        "aa.sort()\n",
        "print(\"sort 후의 리스트 : %s\" % aa)\n",
        "aa.reverse()\n",
        "print(\"reverse 후의 리스트 : %s\" % aa)\n",
        "aa.insert(2, 222)\n",
        "print(\"insert(2, 222) 후의 리스트 : %s\" % aa)\n",
        "print(\"20값의 위치 : %d\" % aa.index(20))\n",
        "aa.remove(222)\n",
        "print(\"remove(222) 후의 리스트 : %s\" % aa)\n",
        "aa.extend([77,88,77])\n",
        "print(\"extend([77,88,77]) 후의 리스트 : %s\" % aa)\n",
        "print(\"77값의 개수 : %d\" % aa.count(77))"
      ],
      "execution_count": 0,
      "outputs": []
    }
  ]
}