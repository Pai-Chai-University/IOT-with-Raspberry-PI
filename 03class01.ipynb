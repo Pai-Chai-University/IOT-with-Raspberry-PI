{
  "nbformat": 4,
  "nbformat_minor": 0,
  "metadata": {
    "colab": {
      "name": "03class01.ipynb",
      "provenance": [],
      "collapsed_sections": [],
      "authorship_tag": "ABX9TyM1oebpHHCajJyOaqNbql3l",
      "include_colab_link": true
    },
    "kernelspec": {
      "name": "python3",
      "display_name": "Python 3"
    }
  },
  "cells": [
    {
      "cell_type": "markdown",
      "metadata": {
        "id": "view-in-github",
        "colab_type": "text"
      },
      "source": [
        "<a href=\"https://colab.research.google.com/github/Pai-Chai-University/IOT-with-Raspberry-PI/blob/master/03class01.ipynb\" target=\"_parent\"><img src=\"https://colab.research.google.com/assets/colab-badge.svg\" alt=\"Open In Colab\"/></a>"
      ]
    },
    {
      "cell_type": "code",
      "metadata": {
        "id": "l-IrjUUaywwR",
        "colab_type": "code",
        "colab": {}
      },
      "source": [
        "class AutoMobile:\n",
        "    name = \"\"\n",
        "    velocity = 0\n",
        "    def velocityPlus(self):\n",
        "        self.velocity = self.velocity + 1\n",
        "        print(\"속도는 %d 입니다.\" % self.velocity)\n",
        "    def velocityDw(self):\n",
        "        self.velocity = self.velocity - 1\n",
        "        if self.velocity < 0:\n",
        "            self.velocity = 0\n",
        "        print(\"속도는 %d 입니다.\" % self.velocity)\n",
        "ac = AutoMobile()\n",
        "ac.velocityPlus()\n",
        "ac.velocity = 20\n",
        "ac.velocityDw()"
      ],
      "execution_count": 0,
      "outputs": []
    }
  ]
}