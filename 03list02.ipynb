{
  "nbformat": 4,
  "nbformat_minor": 0,
  "metadata": {
    "colab": {
      "name": "Untitled1.ipynb",
      "provenance": [],
      "authorship_tag": "ABX9TyMzUzmh1IXBAo7SdJR+/ZO1",
      "include_colab_link": true
    },
    "kernelspec": {
      "name": "python3",
      "display_name": "Python 3"
    }
  },
  "cells": [
    {
      "cell_type": "markdown",
      "metadata": {
        "id": "view-in-github",
        "colab_type": "text"
      },
      "source": [
        "<a href=\"https://colab.research.google.com/github/Pai-Chai-University/IOT-with-Raspberry-PI/blob/master/03list02.ipynb\" target=\"_parent\"><img src=\"https://colab.research.google.com/assets/colab-badge.svg\" alt=\"Open In Colab\"/></a>"
      ]
    },
    {
      "cell_type": "code",
      "metadata": {
        "id": "h0gCFbzcJdKr",
        "colab_type": "code",
        "colab": {}
      },
      "source": [
        "aa = [0, 0, 0, 0]\n",
        "hap = 0\n",
        "aa[0] = int(input(\"1번째 숫자 : \"))\n",
        "aa[1] = int(input(\"2번째 숫자 : \"))\n",
        "aa[2] = int(input(\"3번째 숫자 : \"))\n",
        "aa[3] = int(input(\"4번째 숫자 : \"))\n",
        "hap = aa[0] + aa[1] + aa[2] + aa[3]\n",
        "\n",
        "print(\"합계2 ==> %d\" % hap)"
      ],
      "execution_count": 0,
      "outputs": []
    }
  ]
}