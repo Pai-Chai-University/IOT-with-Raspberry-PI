{
  "nbformat": 4,
  "nbformat_minor": 0,
  "metadata": {
    "colab": {
      "name": "Untitled1.ipynb",
      "provenance": [],
      "authorship_tag": "ABX9TyPGhwPJpXaRjfNtT/0jVAOh",
      "include_colab_link": true
    },
    "kernelspec": {
      "name": "python3",
      "display_name": "Python 3"
    }
  },
  "cells": [
    {
      "cell_type": "markdown",
      "metadata": {
        "id": "view-in-github",
        "colab_type": "text"
      },
      "source": [
        "<a href=\"https://colab.research.google.com/github/Pai-Chai-University/IOT-with-Raspberry-PI/blob/master/03dict01.ipynb\" target=\"_parent\"><img src=\"https://colab.research.google.com/assets/colab-badge.svg\" alt=\"Open In Colab\"/></a>"
      ]
    },
    {
      "cell_type": "code",
      "metadata": {
        "id": "h0gCFbzcJdKr",
        "colab_type": "code",
        "colab": {}
      },
      "source": [
        "#딕셔너리 타입(Dictionary Type)\n",
        "dict = {'번호':10, '성명':'장동건', '나이': 23, '사는곳':'서울'}\n",
        "print(dict)\n",
        "print(type(dict))\n",
        "print(dict['나이'])\n",
        "#특정항목 변경\n",
        "dict['나이'] = 24\n",
        "print(dict['나이'])\n",
        "#특정항목 추가\n",
        "dict['직업'] = '배우'\n",
        "print(dict)\n",
        "#키 및 값 전체 반환\n",
        "print(dict.keys())\n",
        "print(dict.values())\n",
        "# 키값 존재 여부 및 삭제\n",
        "print('사는곳' in dict)\n",
        "del dict['사는곳']\n",
        "print('사는곳' in dict)\n",
        "print(dict)"
      ],
      "execution_count": 0,
      "outputs": []
    }
  ]
}