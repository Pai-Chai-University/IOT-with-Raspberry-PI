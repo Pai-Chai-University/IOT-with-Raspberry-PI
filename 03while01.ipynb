{
  "nbformat": 4,
  "nbformat_minor": 0,
  "metadata": {
    "colab": {
      "name": "Untitled1.ipynb",
      "provenance": [],
      "authorship_tag": "ABX9TyPm9Dcq7BltnUSqQoHgfi6m",
      "include_colab_link": true
    },
    "kernelspec": {
      "name": "python3",
      "display_name": "Python 3"
    }
  },
  "cells": [
    {
      "cell_type": "markdown",
      "metadata": {
        "id": "view-in-github",
        "colab_type": "text"
      },
      "source": [
        "<a href=\"https://colab.research.google.com/github/Pai-Chai-University/IOT-with-Raspberry-PI/blob/master/03while01.ipynb\" target=\"_parent\"><img src=\"https://colab.research.google.com/assets/colab-badge.svg\" alt=\"Open In Colab\"/></a>"
      ]
    },
    {
      "cell_type": "code",
      "metadata": {
        "id": "h0gCFbzcJdKr",
        "colab_type": "code",
        "colab": {}
      },
      "source": [
        "str = \"꿈은 이루어 진다.\"\n",
        "i = 0\n",
        "while i<3:\n",
        "    print(str)\n",
        "    i = i + 1\n",
        "print(\"-----------------------------------\")\n",
        "#while문으로 입력한 숫자만큼 str을 반복 출력하시오.\n",
        "i = int(input(\"반복 횟수 숫자를 입력하세요. \"))\n",
        "j = 1\n",
        "flag = True\n",
        "while flag:\n",
        "    j = j + 1 \n",
        "    if i < j:\n",
        "        flag = False\n",
        "    print(str)"
      ],
      "execution_count": 0,
      "outputs": []
    }
  ]
}