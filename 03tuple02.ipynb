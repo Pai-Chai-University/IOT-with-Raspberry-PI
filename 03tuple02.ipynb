{
  "nbformat": 4,
  "nbformat_minor": 0,
  "metadata": {
    "colab": {
      "name": "Untitled1.ipynb",
      "provenance": [],
      "authorship_tag": "ABX9TyM0FKkBaHChd8WbBUkxO5Tx",
      "include_colab_link": true
    },
    "kernelspec": {
      "name": "python3",
      "display_name": "Python 3"
    }
  },
  "cells": [
    {
      "cell_type": "markdown",
      "metadata": {
        "id": "view-in-github",
        "colab_type": "text"
      },
      "source": [
        "<a href=\"https://colab.research.google.com/github/Pai-Chai-University/IOT-with-Raspberry-PI/blob/master/03tuple02.ipynb\" target=\"_parent\"><img src=\"https://colab.research.google.com/assets/colab-badge.svg\" alt=\"Open In Colab\"/></a>"
      ]
    },
    {
      "cell_type": "code",
      "metadata": {
        "id": "h0gCFbzcJdKr",
        "colab_type": "code",
        "colab": {}
      },
      "source": [
        "one = '하나'\n",
        "print(type(one))\n",
        "one = \"원\"\n",
        "print(one)\n",
        "two = '둘'\n",
        "print(type(two))\n",
        "#two[0] = '투'\n",
        "print(two[0])"
      ],
      "execution_count": 0,
      "outputs": []
    }
  ]
}