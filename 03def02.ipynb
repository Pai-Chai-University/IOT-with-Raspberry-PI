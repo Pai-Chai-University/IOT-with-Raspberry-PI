{
  "nbformat": 4,
  "nbformat_minor": 0,
  "metadata": {
    "colab": {
      "name": "Untitled1.ipynb",
      "provenance": [],
      "authorship_tag": "ABX9TyNdMhbh4XwsKI1FOkTOSVi9",
      "include_colab_link": true
    },
    "kernelspec": {
      "name": "python3",
      "display_name": "Python 3"
    }
  },
  "cells": [
    {
      "cell_type": "markdown",
      "metadata": {
        "id": "view-in-github",
        "colab_type": "text"
      },
      "source": [
        "<a href=\"https://colab.research.google.com/github/Pai-Chai-University/IOT-with-Raspberry-PI/blob/master/03def02.ipynb\" target=\"_parent\"><img src=\"https://colab.research.google.com/assets/colab-badge.svg\" alt=\"Open In Colab\"/></a>"
      ]
    },
    {
      "cell_type": "code",
      "metadata": {
        "id": "h0gCFbzcJdKr",
        "colab_type": "code",
        "colab": {}
      },
      "source": [
        "def mydef01():\n",
        "    i = 10\n",
        "    j = 20\n",
        "    print(i+j)\n",
        "mydef01()\n",
        "def mydef02(i, j):\n",
        "    print(i+j)\n",
        "mydef02(10, 20)\n",
        "# 계산할 숫자를 두 개 입력하세요.\n",
        "def mydef03(i, j , p):\n",
        "    if p == '+':\n",
        "        print(i+j)\n",
        "    elif p == '-': \n",
        "        print(i-j)\n",
        "    elif p == '*':  \n",
        "        print(i*j) \n",
        "    elif p == '/':  \n",
        "        print(i/j)   \n",
        "n = int(input(\"첫 번째 숫자를 입력하세요.\"))\n",
        "m = int(input(\"두 번째 숫자를 입력하세요.\"))\n",
        "p = input(\"연산자를 입력하세요(+, -, *, /)\")\n",
        "mydef03(n, m, p)\n",
        "\n"
      ],
      "execution_count": 0,
      "outputs": []
    }
  ]
}