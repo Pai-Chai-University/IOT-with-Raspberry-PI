{
  "nbformat": 4,
  "nbformat_minor": 0,
  "metadata": {
    "colab": {
      "name": "Untitled1.ipynb",
      "provenance": [],
      "authorship_tag": "ABX9TyNabFtLtPnZoGSHS/jAQZTz",
      "include_colab_link": true
    },
    "kernelspec": {
      "name": "python3",
      "display_name": "Python 3"
    }
  },
  "cells": [
    {
      "cell_type": "markdown",
      "metadata": {
        "id": "view-in-github",
        "colab_type": "text"
      },
      "source": [
        "<a href=\"https://colab.research.google.com/github/Pai-Chai-University/IOT-with-Raspberry-PI/blob/master/03tuple01.ipynb\" target=\"_parent\"><img src=\"https://colab.research.google.com/assets/colab-badge.svg\" alt=\"Open In Colab\"/></a>"
      ]
    },
    {
      "cell_type": "code",
      "metadata": {
        "id": "h0gCFbzcJdKr",
        "colab_type": "code",
        "colab": {}
      },
      "source": [
        "str = \"파이썬 문자열\"\n",
        "print(str[0])\n",
        "print(str[-1])\n",
        "#str[-1] = '렬'\n",
        "\n",
        "card = 'red', 4, 'python', True\n",
        "print(card)\n",
        "print(card[1])\n",
        "#card[0] = 'blue'"
      ],
      "execution_count": 0,
      "outputs": []
    }
  ]
}