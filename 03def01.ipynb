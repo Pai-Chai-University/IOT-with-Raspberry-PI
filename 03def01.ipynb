{
  "nbformat": 4,
  "nbformat_minor": 0,
  "metadata": {
    "colab": {
      "name": "03def01.ipynb",
      "provenance": [],
      "authorship_tag": "ABX9TyPTss/VT3BZMFntcl3XMBib",
      "include_colab_link": true
    },
    "kernelspec": {
      "name": "python3",
      "display_name": "Python 3"
    }
  },
  "cells": [
    {
      "cell_type": "markdown",
      "metadata": {
        "id": "view-in-github",
        "colab_type": "text"
      },
      "source": [
        "<a href=\"https://colab.research.google.com/github/Pai-Chai-University/IOT-with-Raspberry-PI/blob/master/03def01.ipynb\" target=\"_parent\"><img src=\"https://colab.research.google.com/assets/colab-badge.svg\" alt=\"Open In Colab\"/></a>"
      ]
    },
    {
      "cell_type": "code",
      "metadata": {
        "id": "5TA7sR7q9psk",
        "colab_type": "code",
        "colab": {
          "base_uri": "https://localhost:8080/",
          "height": 74
        },
        "outputId": "cc24c70b-5152-4770-be9c-0644ddfad4b1"
      },
      "source": [
        "def mydef01():\n",
        "    print(\"함수를 선언합니다.\")\n",
        "mydef01()\n",
        "def mydef02(str=\"인수함수를 선언합니다.\"):\n",
        "    print(str)\n",
        "mydef02()\n",
        "mydef02(\"인수를 넣습니다.\")"
      ],
      "execution_count": 1,
      "outputs": [
        {
          "output_type": "stream",
          "text": [
            "함수를 선언합니다.\n",
            "인수함수를 선언합니다.\n",
            "인수를 넣습니다.\n"
          ],
          "name": "stdout"
        }
      ]
    }
  ]
}