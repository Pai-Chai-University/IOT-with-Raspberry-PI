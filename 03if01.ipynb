{
  "nbformat": 4,
  "nbformat_minor": 0,
  "metadata": {
    "colab": {
      "name": "Untitled1.ipynb",
      "provenance": [],
      "authorship_tag": "ABX9TyMtC3igmNWV3MyN4MRo1Olp",
      "include_colab_link": true
    },
    "kernelspec": {
      "name": "python3",
      "display_name": "Python 3"
    }
  },
  "cells": [
    {
      "cell_type": "markdown",
      "metadata": {
        "id": "view-in-github",
        "colab_type": "text"
      },
      "source": [
        "<a href=\"https://colab.research.google.com/github/Pai-Chai-University/IOT-with-Raspberry-PI/blob/master/03if01.ipynb\" target=\"_parent\"><img src=\"https://colab.research.google.com/assets/colab-badge.svg\" alt=\"Open In Colab\"/></a>"
      ]
    },
    {
      "cell_type": "code",
      "metadata": {
        "id": "h0gCFbzcJdKr",
        "colab_type": "code",
        "colab": {}
      },
      "source": [
        "#if문\n",
        "a = 23\n",
        "if a < 50:\n",
        "    print('50보다 작군요')\n",
        "#if else문\n",
        "if a < 20:\n",
        "    print('20보다 작군요')\n",
        "else:\n",
        "    print('20보다 크군요')\n",
        "#elif문\n",
        "age = int(input('현재 나이를 입력하세요. '))\n",
        "if age < 10:\n",
        "        print('유년층 입니다.')\n",
        "elif age < 20:\n",
        "        print('10대입니다.')\n",
        "elif age < 30:\n",
        "        print('20대입니다.')\n",
        "elif age < 40:\n",
        "        print('30대입니다.')\n",
        "else:\n",
        "    print('장년층입니다')"
      ],
      "execution_count": 0,
      "outputs": []
    }
  ]
}