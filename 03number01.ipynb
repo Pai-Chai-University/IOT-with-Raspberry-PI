{
  "nbformat": 4,
  "nbformat_minor": 0,
  "metadata": {
    "colab": {
      "name": "Untitled1.ipynb",
      "provenance": [],
      "authorship_tag": "ABX9TyNfqMkANXwFrMZSDSzz+XlX",
      "include_colab_link": true
    },
    "kernelspec": {
      "name": "python3",
      "display_name": "Python 3"
    }
  },
  "cells": [
    {
      "cell_type": "markdown",
      "metadata": {
        "id": "view-in-github",
        "colab_type": "text"
      },
      "source": [
        "<a href=\"https://colab.research.google.com/github/Pai-Chai-University/IOT-with-Raspberry-PI/blob/master/03number01.ipynb\" target=\"_parent\"><img src=\"https://colab.research.google.com/assets/colab-badge.svg\" alt=\"Open In Colab\"/></a>"
      ]
    },
    {
      "cell_type": "code",
      "metadata": {
        "id": "h0gCFbzcJdKr",
        "colab_type": "code",
        "colab": {}
      },
      "source": [
        "a = 123\n",
        "print(type(a))\n",
        "a = 100 * 100\n",
        "print(a)\n",
        "a , b = 9 , 2\n",
        "print(a * b)"
      ],
      "execution_count": 0,
      "outputs": []
    }
  ]
}