{
  "nbformat": 4,
  "nbformat_minor": 0,
  "metadata": {
    "colab": {
      "name": "Untitled1.ipynb",
      "provenance": [],
      "authorship_tag": "ABX9TyMq0P/czOg0p8aOdOGeNHZQ",
      "include_colab_link": true
    },
    "kernelspec": {
      "name": "python3",
      "display_name": "Python 3"
    }
  },
  "cells": [
    {
      "cell_type": "markdown",
      "metadata": {
        "id": "view-in-github",
        "colab_type": "text"
      },
      "source": [
        "<a href=\"https://colab.research.google.com/github/Pai-Chai-University/IOT-with-Raspberry-PI/blob/master/03for01.ipynb\" target=\"_parent\"><img src=\"https://colab.research.google.com/assets/colab-badge.svg\" alt=\"Open In Colab\"/></a>"
      ]
    },
    {
      "cell_type": "code",
      "metadata": {
        "id": "h0gCFbzcJdKr",
        "colab_type": "code",
        "colab": {}
      },
      "source": [
        "for i in range(0, 5, 1):\n",
        "    print(i)\n",
        "print(\"----------\")\n",
        "for j in[1,3,5,7,9]:\n",
        "    print(j)    \n",
        "print(\"----------\")\n",
        "for k in range(0, 3, 1):\n",
        "     print(\"꿈은 이루어 진다.\")   "
      ],
      "execution_count": 0,
      "outputs": []
    }
  ]
}